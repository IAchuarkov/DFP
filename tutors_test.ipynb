{
 "cells": [
  {
   "cell_type": "code",
   "execution_count": 1,
   "metadata": {},
   "outputs": [],
   "source": [
    "meaningless_list = [\n",
    "    'были', 'если', 'было',\n",
    "    'этот', 'тебе', 'очень',\n",
    "    'чего', 'себе', 'есть', 'сама',\n",
    "    'столько', 'когда', 'каким',\n",
    "    'даже', 'хотя', 'свое', 'своё',\n",
    "]\n",
    "\n",
    "meaningless = set(meaningless_list)"
   ]
  },
  {
   "cell_type": "code",
   "execution_count": 2,
   "metadata": {},
   "outputs": [],
   "source": [
    "from FIN.fin import FIN\n",
    "from PrefixSpan.prefixspan import PrefixSpan"
   ]
  },
  {
   "cell_type": "code",
   "execution_count": 3,
   "metadata": {},
   "outputs": [],
   "source": [
    "import pandas as pd\n",
    "file = 'repetitors_1.xlsx'\n",
    "table_raw = pd.concat(pd.read_excel(file, sheet_name=None), ignore_index=True)\n",
    "\n",
    "table_textless = table_raw.drop(['text' ,'Column1', 'author', 'date', 'id', 'reply', 'tutorlink', 'tutorname'], axis=1)\n",
    "table = table_raw.drop(['Column1', 'author', 'date', 'id', 'reply', 'tutorlink', 'tutorname'], axis=1)"
   ]
  },
  {
   "cell_type": "code",
   "execution_count": 4,
   "metadata": {},
   "outputs": [],
   "source": [
    "DB_textless = [[row.discipline, row.mark] for index, row in table_textless.iterrows()]"
   ]
  },
  {
   "cell_type": "code",
   "execution_count": 5,
   "metadata": {},
   "outputs": [
    {
     "name": "stdout",
     "output_type": "stream",
     "text": [
      "['вполне хорошо']\n",
      "['почти отлично']\n",
      "['хорошо']\n",
      "['немецкий язык']\n",
      "['начальная школа']\n",
      "['не указана']\n",
      "['логопеды']\n",
      "['география']\n",
      "['химия']\n",
      "['психология']\n",
      "['испанский язык']\n",
      "['информатика']\n",
      "['биология']\n",
      "['физика']\n",
      "['обществознание']\n",
      "['английский язык']\n",
      "['русский язык']\n",
      "['отлично']\n",
      "['лучше не бывает!']\n",
      "['математика']\n",
      "['ужасно']\n",
      "['лучше не бывает!', 'английский язык']\n",
      "['лучше не бывает!', 'русский язык']\n",
      "['математика', 'лучше не бывает!']\n",
      "['математика', 'отлично']\n",
      "['отлично', 'английский язык']\n",
      "['отлично', 'русский язык']\n",
      "['ужасно', 'русский язык']\n",
      "['ужасно', 'математика']\n",
      "['ужасно', 'обществознание']\n",
      "['ужасно', 'психология']\n",
      "['ужасно', 'физика']\n",
      "['ужасно', 'английский язык']\n",
      "['ужасно', 'биология']\n",
      "['ужасно', 'информатика']\n",
      "['ужасно', 'испанский язык']\n",
      "['ужасно', 'география']\n"
     ]
    }
   ],
   "source": [
    "# Ищем правила только среди предмента и оценки\n",
    "\n",
    "freqs = FIN(DB_textless, 0.01)\n",
    " \n",
    "for pat in freqs:\n",
    "    print(pat.itemset)"
   ]
  },
  {
   "cell_type": "code",
   "execution_count": 6,
   "metadata": {},
   "outputs": [],
   "source": [
    "from string import punctuation\n",
    "from re import split\n",
    "\n",
    "split_pat = '[' + punctuation + ' ]'\n",
    "\n",
    "\n",
    "DB_FIN = []\n",
    "DB_prefixspan = []\n",
    "\n",
    "for index, row in table[::15].iterrows():\n",
    "    current_row = [row.discipline, row.mark]\n",
    "    \n",
    "    words = [word.lower()\n",
    "             for word in split(split_pat, str(row.text))\n",
    "             if (len(word) > 3 and word.lower() not in meaningless) or word.lower() in ['огэ', 'егэ']]\n",
    "    \n",
    "    DB_FIN.append(current_row + words)\n",
    "\n",
    "    if words:\n",
    "        DB_prefixspan.append([ words ])"
   ]
  },
  {
   "cell_type": "code",
   "execution_count": 7,
   "metadata": {},
   "outputs": [
    {
     "name": "stdout",
     "output_type": "stream",
     "text": [
      "['внимательный']\n",
      "['впечатление']\n",
      "['результатом']\n",
      "['пунктуальный']\n",
      "['доходчиво']\n",
      "['обществознание']\n",
      "['репетитор']\n",
      "['математика']\n",
      "['лучше не бывает!']\n",
      "['спасибо']\n",
      "['просто']\n",
      "['человек']\n",
      "['преподаватель']\n",
      "['огэ']\n",
      "['материал']\n",
      "['отлично']\n",
      "['довольны']\n",
      "['ребенку']\n",
      "['большой']\n",
      "['занятия']\n",
      "['ужасно']\n",
      "['огэ', 'спасибо']\n",
      "['занятия', 'просто']\n",
      "['занятия', 'ребенку']\n",
      "['занятия', 'довольны']\n",
      "['ребенку', 'довольны']\n",
      "['занятия', 'материал']\n",
      "['довольны', 'материал']\n",
      "['довольны', 'результатом']\n",
      "['материал', 'доходчиво']\n",
      "['материал', 'просто']\n",
      "['материал', 'обществознание']\n",
      "['занятия', 'большой']\n",
      "['большой', 'ребенку']\n",
      "['ужасно', 'ребенку']\n",
      "['ужасно', 'просто']\n",
      "['ужасно', 'человек']\n",
      "['ужасно', 'обществознание']\n",
      "['ужасно', 'занятия']\n",
      "['ужасно', 'материал']\n",
      "['ужасно', 'огэ']\n",
      "['ужасно', 'доходчиво']\n",
      "['ужасно', 'довольны']\n",
      "['ужасно', 'результатом']\n",
      "['ужасно', 'большой']\n",
      "['ужасно', 'занятия', 'ребенку']\n",
      "['ужасно', 'довольны', 'результатом']\n",
      "['ужасно', 'занятия', 'большой']\n",
      "['занятия', 'большой', 'ребенку']\n",
      "['ужасно', 'большой', 'ребенку']\n",
      "['ужасно', 'занятия', 'большой', 'ребенку']\n"
     ]
    }
   ],
   "source": [
    "# Добавляем текст\n",
    "\n",
    "freqs = FIN(DB_FIN, 0.15)\n",
    "\n",
    "for pat in freqs:\n",
    "    print(pat.itemset)\n",
    "    "
   ]
  },
  {
   "cell_type": "code",
   "execution_count": 9,
   "metadata": {},
   "outputs": [
    {
     "name": "stdout",
     "output_type": "stream",
     "text": [
      "[['преподаватель']]\n",
      "[['егэ']]\n",
      "[['дочь']]\n",
      "[['репетитор']]\n",
      "[['огромное']]\n",
      "[['спасибо']]\n",
      "[['занятия']]\n",
      "[['огэ']]\n",
      "[['просто']]\n",
      "[['хорошо']]\n",
      "[['довольны']]\n",
      "[['пунктуальный']]\n",
      "[['сдали']]\n",
      "[['человек']]\n",
      "[['результатом']]\n",
      "[['подход']]\n",
      "[['внимательный']]\n",
      "[['доходчиво']]\n",
      "[['материал']]\n",
      "[['нравились']]\n",
      "[['умница']]\n",
      "[['положительное']]\n",
      "[['ребенку']]\n",
      "[['впечатление']]\n",
      "[['большой']]\n",
      "[['викторовна']]\n",
      "[['преподносит']]\n",
      "[['обязательный']]\n",
      "[['произвела']]\n",
      "[['скромный']]\n",
      "[['приятной']]\n",
      "[['энергетикой']]\n",
      "[['флорина']]\n"
     ]
    }
   ],
   "source": [
    "# Обработка текста примечания с помощью prefixspan, который ищет sequential patterns\n",
    "# Тут не очень интересный датасет для данного алгоритма поэтому и результаты получаются не особо интересные\n",
    "\n",
    "\n",
    "freqs = PrefixSpan(DB_prefixspan, 0.1)\n",
    "\n",
    "\n",
    "for pat in freqs:\n",
    "    print(pat.sequence)"
   ]
  },
  {
   "cell_type": "code",
   "execution_count": null,
   "metadata": {},
   "outputs": [],
   "source": []
  }
 ],
 "metadata": {
  "kernelspec": {
   "display_name": "Python 3",
   "language": "python",
   "name": "python3"
  },
  "language_info": {
   "codemirror_mode": {
    "name": "ipython",
    "version": 3
   },
   "file_extension": ".py",
   "mimetype": "text/x-python",
   "name": "python",
   "nbconvert_exporter": "python",
   "pygments_lexer": "ipython3",
   "version": "3.7.2"
  }
 },
 "nbformat": 4,
 "nbformat_minor": 2
}
